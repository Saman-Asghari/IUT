{
 "cells": [
  {
   "cell_type": "code",
   "execution_count": 1,
   "id": "9569f755-95c6-4fa1-9ccd-e332c959aeb3",
   "metadata": {},
   "outputs": [
    {
     "name": "stdout",
     "output_type": "stream",
     "text": [
      "Best Estimated Steady-State Temperature Grid (6x6):\n",
      "[[ 1.0008e+02  9.9850e+01  9.9790e+01  9.9840e+01  9.9960e+01  1.0023e+02]\n",
      " [ 4.9890e+01  7.1480e+01  7.8760e+01  8.1610e+01  8.1730e+01  7.4880e+01]\n",
      " [ 4.9960e+01  5.7440e+01  6.2160e+01  6.6120e+01  7.0450e+01  7.4870e+01]\n",
      " [ 5.0150e+01  4.6150e+01  4.6310e+01  5.0250e+01  5.9080e+01  7.4700e+01]\n",
      " [ 5.0020e+01  3.0710e+01  2.6690e+01  2.9480e+01  4.0920e+01  7.4860e+01]\n",
      " [-2.2000e-01 -2.0000e-02  2.6000e-01  7.0000e-02  2.7000e-01 -8.0000e-02]]\n"
     ]
    }
   ],
   "source": [
    "import numpy as np\n",
    "\n",
    "def solve_temperature_grid(boundary_conditions):\n",
    "    n = 6\n",
    "    grid_points = n * n\n",
    "    A = np.zeros((grid_points, grid_points))\n",
    "    b = np.zeros(grid_points)\n",
    "    index = lambda i, j: i * n + j\n",
    "    for i in range(n):\n",
    "        for j in range(n):\n",
    "            eq_index = index(i, j)\n",
    "            if i == 0: \n",
    "                A[eq_index, eq_index] = 1\n",
    "                b[eq_index] = boundary_conditions['top'][j]\n",
    "            elif i == n - 1: \n",
    "                A[eq_index, eq_index] = 1\n",
    "                b[eq_index] = boundary_conditions['bottom'][j]\n",
    "            elif j == 0:  \n",
    "                A[eq_index, eq_index] = 1\n",
    "                b[eq_index] = boundary_conditions['left'][i]\n",
    "            elif j == n - 1:  \n",
    "                A[eq_index, eq_index] = 1\n",
    "                b[eq_index] = boundary_conditions['right'][i]\n",
    "            else: \n",
    "                A[eq_index, eq_index] = 4\n",
    "                A[eq_index, index(i - 1, j)] = -1\n",
    "                A[eq_index, index(i + 1, j)] = -1\n",
    "                A[eq_index, index(i, j - 1)] = -1\n",
    "                A[eq_index, index(i, j + 1)] = -1\n",
    "\n",
    "    temperatures_1d = np.linalg.solve(A, b)\n",
    "    temperatures = temperatures_1d.reshape((n, n))\n",
    "    return temperatures\n",
    "\n",
    "def average_temperature(boundary_conditions, num_simulations=10, noise_std=0.5):\n",
    "    n = 6\n",
    "    temperature_sums = np.zeros((n, n)) \n",
    "    for _ in range(num_simulations):\n",
    "        noisy_boundaries = {\n",
    "            side: np.array(values) + np.random.normal(0, noise_std, size=n)\n",
    "            for side, values in boundary_conditions.items()\n",
    "        }\n",
    "        temp_grid = solve_temperature_grid(noisy_boundaries)\n",
    "        temperature_sums += temp_grid\n",
    "\n",
    "    \n",
    "    # Compute the average temperature grid\n",
    "    average_temperatures = temperature_sums / num_simulations\n",
    "    return average_temperatures\n",
    "\n",
    "\n",
    "# question data\n",
    "boundary_conditions = {\n",
    "    'top': [100, 100, 100, 100, 100, 100],\n",
    "    'bottom': [0, 0, 0, 0, 0, 0],\n",
    "    'left': [50, 50, 50, 50, 50, 50],\n",
    "    'right': [75, 75, 75, 75, 75, 75],\n",
    "}\n",
    "\n",
    "best_temperature_estimate = average_temperature(boundary_conditions, num_simulations=10, noise_std=0.5)\n",
    "\n",
    "print(\"Result:\")\n",
    "print(np.round(best_temperature_estimate, 2))\n"
   ]
  },
  {
   "cell_type": "code",
   "execution_count": null,
   "id": "4201d81b-ee5b-450a-8005-e7127ca5dbe5",
   "metadata": {},
   "outputs": [],
   "source": []
  }
 ],
 "metadata": {
  "kernelspec": {
   "display_name": "Python 3 (ipykernel)",
   "language": "python",
   "name": "python3"
  },
  "language_info": {
   "codemirror_mode": {
    "name": "ipython",
    "version": 3
   },
   "file_extension": ".py",
   "mimetype": "text/x-python",
   "name": "python",
   "nbconvert_exporter": "python",
   "pygments_lexer": "ipython3",
   "version": "3.10.11"
  }
 },
 "nbformat": 4,
 "nbformat_minor": 5
}
