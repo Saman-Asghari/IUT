{
 "cells": [
  {
   "cell_type": "code",
   "execution_count": 3,
   "id": "b2d15e1b-e4be-49f5-b1c8-04c8422fd339",
   "metadata": {},
   "outputs": [
    {
     "name": "stdout",
     "output_type": "stream",
     "text": [
      "result is:\n",
      "[[100.   100.   100.   100.   100.   100.  ]\n",
      " [ 50.    71.59  78.88  81.72  81.82  75.  ]\n",
      " [ 50.    57.48  62.22  66.19  70.55  75.  ]\n",
      " [ 50.    46.12  46.31  50.28  59.19  75.  ]\n",
      " [ 50.    30.68  26.61  29.45  40.91  75.  ]\n",
      " [  0.     0.     0.     0.     0.     0.  ]]\n"
     ]
    }
   ],
   "source": [
    "import numpy as np\n",
    "\n",
    "def compute_steady_state(grid_boundaries):\n",
    "    grid_size = 6\n",
    "    total_points = grid_size ** 2 \n",
    "    coefficients = np.zeros((total_points, total_points)) \n",
    "    constants = np.zeros(total_points) \n",
    "\n",
    "    def linear_index(row, col):\n",
    "        return row * grid_size + col\n",
    "\n",
    "    for row in range(grid_size):\n",
    "        for col in range(grid_size):\n",
    "            current = linear_index(row, col)\n",
    "            if row == 0: \n",
    "                coefficients[current, current] = 1\n",
    "                constants[current] = grid_boundaries['top'][col]\n",
    "            elif row == grid_size - 1: \n",
    "                coefficients[current, current] = 1\n",
    "                constants[current] = grid_boundaries['bottom'][col]\n",
    "            elif col == 0:  \n",
    "                coefficients[current, current] = 1\n",
    "                constants[current] = grid_boundaries['left'][row]\n",
    "            elif col == grid_size - 1:  \n",
    "                coefficients[current, current] = 1\n",
    "                constants[current] = grid_boundaries['right'][row]\n",
    "            else:  \n",
    "                coefficients[current, current] = 4 \n",
    "                coefficients[current, linear_index(row - 1, col)] = -1 \n",
    "                coefficients[current, linear_index(row + 1, col)] = -1  \n",
    "                coefficients[current, linear_index(row, col - 1)] = -1 \n",
    "                coefficients[current, linear_index(row, col + 1)] = -1 \n",
    "\n",
    "    solved_temperatures = np.linalg.solve(coefficients, constants)\n",
    "    grid_result = solved_temperatures.reshape((grid_size, grid_size))\n",
    "    return grid_result\n",
    "\n",
    "#the tempretuare for the question\n",
    "boundary_temp = {\n",
    "    'top': [100, 100, 100, 100, 100, 100],\n",
    "    'bottom': [0, 0, 0, 0, 0, 0],\n",
    "    'left': [50, 50, 50, 50, 50, 50],\n",
    "    'right': [75, 75, 75, 75, 75, 75],\n",
    "}\n",
    "result_grid = compute_steady_state(boundary_temp)\n",
    "print(\"result is:\")\n",
    "print(np.round(result_grid, 2))\n"
   ]
  },
  {
   "cell_type": "code",
   "execution_count": null,
   "id": "39e0b989-0d8e-4554-9109-f47c5adec9de",
   "metadata": {},
   "outputs": [],
   "source": []
  }
 ],
 "metadata": {
  "kernelspec": {
   "display_name": "Python 3 (ipykernel)",
   "language": "python",
   "name": "python3"
  },
  "language_info": {
   "codemirror_mode": {
    "name": "ipython",
    "version": 3
   },
   "file_extension": ".py",
   "mimetype": "text/x-python",
   "name": "python",
   "nbconvert_exporter": "python",
   "pygments_lexer": "ipython3",
   "version": "3.10.11"
  }
 },
 "nbformat": 4,
 "nbformat_minor": 5
}
