{
 "cells": [
  {
   "cell_type": "code",
   "execution_count": 2,
   "id": "01c5de5b-bf1b-430c-b077-3797910e13cd",
   "metadata": {},
   "outputs": [
    {
     "name": "stdout",
     "output_type": "stream",
     "text": [
      "\n",
      "Orthogonal Matrix (Q):\n",
      "[[ 0.26726124 -0.77151675  0.57735027]\n",
      " [ 0.80178373 -0.15430335 -0.57735027]\n",
      " [ 0.53452248  0.6172134   0.57735027]]\n",
      "\n",
      "Upper Matrix (R):\n",
      "[[ 3.74165739 10.15592719 12.02675589]\n",
      " [ 0.          0.9258201   4.16619045]\n",
      " [ 0.          0.          6.92820323]]\n",
      "\n",
      "Reconstructed Matrix (QR):\n",
      "[[ 1.  2.  4.]\n",
      " [ 3.  8.  5.]\n",
      " [ 2.  6. 13.]]\n"
     ]
    }
   ],
   "source": [
    "import numpy as np\n",
    "\n",
    "def gram_schmidt_qr(mat):\n",
    "    rows, cols = mat.shape\n",
    "    Q_temp = np.zeros((rows, cols)) \n",
    "    upper = np.zeros((cols, cols)) \n",
    "    \n",
    "    for col in range(cols):\n",
    "        vec = mat[:, col]\n",
    "        for prev_col in range(col):\n",
    "            proj_coeff = np.dot(Q_temp[:, prev_col], mat[:, col])\n",
    "            upper[prev_col, col] = proj_coeff\n",
    "            vec -= proj_coeff * Q_temp[:, prev_col]\n",
    "\n",
    "        norm_val = np.linalg.norm(vec)\n",
    "        upper[col, col] = norm_val\n",
    "        if norm_val > 1e-10:\n",
    "            Q_temp[:, col] = vec / norm_val\n",
    "\n",
    "    return Q_temp, upper\n",
    "\n",
    "example= np.array([\n",
    "    [1, 2, 4],\n",
    "    [3, 8, 5],\n",
    "    [2, 6, 13]\n",
    "], dtype=float)\n",
    "orthogonal, upper_tri = gram_schmidt_qr(example)\n",
    "\n",
    "\n",
    "print(\"\\nOrthogonal Matrix (Q):\")\n",
    "print(orthogonal)\n",
    "print(\"\\nUpper Matrix (R):\")\n",
    "print(upper_tri)\n",
    "\n",
    "# Verify the result\n",
    "reconstructed = np.dot(orthogonal, upper_tri)\n",
    "print(\"\\nReconstructed Matrix (QR):\")\n",
    "print(reconstructed)\n"
   ]
  },
  {
   "cell_type": "code",
   "execution_count": null,
   "id": "85aca4d5-2881-4dc0-b01e-18f54625d96f",
   "metadata": {},
   "outputs": [],
   "source": []
  }
 ],
 "metadata": {
  "kernelspec": {
   "display_name": "Python 3 (ipykernel)",
   "language": "python",
   "name": "python3"
  },
  "language_info": {
   "codemirror_mode": {
    "name": "ipython",
    "version": 3
   },
   "file_extension": ".py",
   "mimetype": "text/x-python",
   "name": "python",
   "nbconvert_exporter": "python",
   "pygments_lexer": "ipython3",
   "version": "3.10.11"
  }
 },
 "nbformat": 4,
 "nbformat_minor": 5
}
